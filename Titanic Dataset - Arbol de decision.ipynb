{
 "cells": [
  {
   "cell_type": "code",
   "execution_count": 190,
   "id": "5775c3e3",
   "metadata": {},
   "outputs": [],
   "source": [
    "\n",
    "import os\n",
    "#tratamiento de datos\n",
    "#from six import StringIO\n",
    "#from sklearn.tree import export_graphviz\n",
    "#import pydotplus\n",
    "#from pydotplus import graph_from_dot_data\n",
    "import pandas as pd\n",
    "\n",
    "#gráfico de datos\n",
    "import matplotlib.pyplot as plt\n",
    "import seaborn as sn\n",
    "\n",
    "#preprocesado y modelado\n",
    "#from sklearn.datasets import load_iris\n",
    "from sklearn import tree\n",
    "from sklearn.tree import DecisionTreeClassifier\n",
    "from sklearn.model_selection import train_test_split\n",
    "\n",
    "#from sklearn import metrics\n",
    "from sklearn.metrics import confusion_matrix, f1_score, recall_score, accuracy_score, precision_score\n",
    "from sklearn.metrics import classification_report"
   ]
  },
  {
   "cell_type": "code",
   "execution_count": 105,
   "id": "a47dc3f8",
   "metadata": {},
   "outputs": [
    {
     "data": {
      "text/plain": [
       "'C:\\\\Users\\\\sacha\\\\Desktop\\\\PYTHON+R+SQL\\\\INSTITUTO DATA SCIENCE\\\\PYTHON\\\\6- ARBOLES DE DECISION'"
      ]
     },
     "execution_count": 105,
     "metadata": {},
     "output_type": "execute_result"
    }
   ],
   "source": [
    "os.getcwd()"
   ]
  },
  {
   "cell_type": "code",
   "execution_count": 106,
   "id": "695b2e95",
   "metadata": {},
   "outputs": [],
   "source": [
    "os.chdir(\"C:/Users/sacha/Desktop/PYTHON+R+SQL/INSTITUTO DATA SCIENCE/PYTHON/6- ARBOLES DE DECISION/\")"
   ]
  },
  {
   "cell_type": "code",
   "execution_count": 107,
   "id": "5c2ac398",
   "metadata": {},
   "outputs": [],
   "source": [
    "dftrain=pd.read_csv(\"titanic_train.csv\")"
   ]
  },
  {
   "cell_type": "code",
   "execution_count": 108,
   "id": "5db3be22",
   "metadata": {},
   "outputs": [],
   "source": [
    "dftest=pd.read_csv(\"titanic_test.csv\")"
   ]
  },
  {
   "cell_type": "code",
   "execution_count": 109,
   "id": "dda42514",
   "metadata": {},
   "outputs": [
    {
     "data": {
      "text/html": [
       "<div>\n",
       "<style scoped>\n",
       "    .dataframe tbody tr th:only-of-type {\n",
       "        vertical-align: middle;\n",
       "    }\n",
       "\n",
       "    .dataframe tbody tr th {\n",
       "        vertical-align: top;\n",
       "    }\n",
       "\n",
       "    .dataframe thead th {\n",
       "        text-align: right;\n",
       "    }\n",
       "</style>\n",
       "<table border=\"1\" class=\"dataframe\">\n",
       "  <thead>\n",
       "    <tr style=\"text-align: right;\">\n",
       "      <th></th>\n",
       "      <th>PassengerId</th>\n",
       "      <th>Survived</th>\n",
       "      <th>Pclass</th>\n",
       "      <th>Name</th>\n",
       "      <th>Sex</th>\n",
       "      <th>Age</th>\n",
       "      <th>SibSp</th>\n",
       "      <th>Parch</th>\n",
       "      <th>Ticket</th>\n",
       "      <th>Fare</th>\n",
       "      <th>Cabin</th>\n",
       "      <th>Embarked</th>\n",
       "    </tr>\n",
       "  </thead>\n",
       "  <tbody>\n",
       "    <tr>\n",
       "      <th>0</th>\n",
       "      <td>1</td>\n",
       "      <td>0</td>\n",
       "      <td>3</td>\n",
       "      <td>Braund, Mr. Owen Harris</td>\n",
       "      <td>male</td>\n",
       "      <td>22.0</td>\n",
       "      <td>1</td>\n",
       "      <td>0</td>\n",
       "      <td>A/5 21171</td>\n",
       "      <td>7.2500</td>\n",
       "      <td>NaN</td>\n",
       "      <td>S</td>\n",
       "    </tr>\n",
       "    <tr>\n",
       "      <th>1</th>\n",
       "      <td>2</td>\n",
       "      <td>1</td>\n",
       "      <td>1</td>\n",
       "      <td>Cumings, Mrs. John Bradley (Florence Briggs Th...</td>\n",
       "      <td>female</td>\n",
       "      <td>38.0</td>\n",
       "      <td>1</td>\n",
       "      <td>0</td>\n",
       "      <td>PC 17599</td>\n",
       "      <td>71.2833</td>\n",
       "      <td>C85</td>\n",
       "      <td>C</td>\n",
       "    </tr>\n",
       "    <tr>\n",
       "      <th>2</th>\n",
       "      <td>3</td>\n",
       "      <td>1</td>\n",
       "      <td>3</td>\n",
       "      <td>Heikkinen, Miss. Laina</td>\n",
       "      <td>female</td>\n",
       "      <td>26.0</td>\n",
       "      <td>0</td>\n",
       "      <td>0</td>\n",
       "      <td>STON/O2. 3101282</td>\n",
       "      <td>7.9250</td>\n",
       "      <td>NaN</td>\n",
       "      <td>S</td>\n",
       "    </tr>\n",
       "    <tr>\n",
       "      <th>3</th>\n",
       "      <td>4</td>\n",
       "      <td>1</td>\n",
       "      <td>1</td>\n",
       "      <td>Futrelle, Mrs. Jacques Heath (Lily May Peel)</td>\n",
       "      <td>female</td>\n",
       "      <td>35.0</td>\n",
       "      <td>1</td>\n",
       "      <td>0</td>\n",
       "      <td>113803</td>\n",
       "      <td>53.1000</td>\n",
       "      <td>C123</td>\n",
       "      <td>S</td>\n",
       "    </tr>\n",
       "    <tr>\n",
       "      <th>4</th>\n",
       "      <td>5</td>\n",
       "      <td>0</td>\n",
       "      <td>3</td>\n",
       "      <td>Allen, Mr. William Henry</td>\n",
       "      <td>male</td>\n",
       "      <td>35.0</td>\n",
       "      <td>0</td>\n",
       "      <td>0</td>\n",
       "      <td>373450</td>\n",
       "      <td>8.0500</td>\n",
       "      <td>NaN</td>\n",
       "      <td>S</td>\n",
       "    </tr>\n",
       "  </tbody>\n",
       "</table>\n",
       "</div>"
      ],
      "text/plain": [
       "   PassengerId  Survived  Pclass  \\\n",
       "0            1         0       3   \n",
       "1            2         1       1   \n",
       "2            3         1       3   \n",
       "3            4         1       1   \n",
       "4            5         0       3   \n",
       "\n",
       "                                                Name     Sex   Age  SibSp  \\\n",
       "0                            Braund, Mr. Owen Harris    male  22.0      1   \n",
       "1  Cumings, Mrs. John Bradley (Florence Briggs Th...  female  38.0      1   \n",
       "2                             Heikkinen, Miss. Laina  female  26.0      0   \n",
       "3       Futrelle, Mrs. Jacques Heath (Lily May Peel)  female  35.0      1   \n",
       "4                           Allen, Mr. William Henry    male  35.0      0   \n",
       "\n",
       "   Parch            Ticket     Fare Cabin Embarked  \n",
       "0      0         A/5 21171   7.2500   NaN        S  \n",
       "1      0          PC 17599  71.2833   C85        C  \n",
       "2      0  STON/O2. 3101282   7.9250   NaN        S  \n",
       "3      0            113803  53.1000  C123        S  \n",
       "4      0            373450   8.0500   NaN        S  "
      ]
     },
     "execution_count": 109,
     "metadata": {},
     "output_type": "execute_result"
    }
   ],
   "source": [
    "dftrain.head()"
   ]
  },
  {
   "cell_type": "markdown",
   "id": "dd73aadf",
   "metadata": {},
   "source": [
    "Pclass 1=1st, 2=2nd, 3=3rd"
   ]
  },
  {
   "cell_type": "markdown",
   "id": "a9cc4cb4",
   "metadata": {},
   "source": [
    "sibsp - numero de hermanxs/esposxs abordo del titanic"
   ]
  },
  {
   "cell_type": "markdown",
   "id": "78484403",
   "metadata": {},
   "source": [
    "Parch - numero de padres / hijxs en el titanic"
   ]
  },
  {
   "cell_type": "markdown",
   "id": "0d4ab4b0",
   "metadata": {},
   "source": [
    "Passenger fare - Tarifa del pasaje"
   ]
  },
  {
   "cell_type": "markdown",
   "id": "1aa255c8",
   "metadata": {},
   "source": [
    "embarked - Puerto de embarcacion"
   ]
  },
  {
   "cell_type": "code",
   "execution_count": 110,
   "id": "b5605b88",
   "metadata": {},
   "outputs": [
    {
     "data": {
      "text/plain": [
       "(891, 12)"
      ]
     },
     "execution_count": 110,
     "metadata": {},
     "output_type": "execute_result"
    }
   ],
   "source": [
    "dftrain.shape"
   ]
  },
  {
   "cell_type": "code",
   "execution_count": 111,
   "id": "5fe7a36a",
   "metadata": {},
   "outputs": [
    {
     "name": "stdout",
     "output_type": "stream",
     "text": [
      "<class 'pandas.core.frame.DataFrame'>\n",
      "RangeIndex: 891 entries, 0 to 890\n",
      "Data columns (total 12 columns):\n",
      " #   Column       Non-Null Count  Dtype  \n",
      "---  ------       --------------  -----  \n",
      " 0   PassengerId  891 non-null    int64  \n",
      " 1   Survived     891 non-null    int64  \n",
      " 2   Pclass       891 non-null    int64  \n",
      " 3   Name         891 non-null    object \n",
      " 4   Sex          891 non-null    object \n",
      " 5   Age          714 non-null    float64\n",
      " 6   SibSp        891 non-null    int64  \n",
      " 7   Parch        891 non-null    int64  \n",
      " 8   Ticket       891 non-null    object \n",
      " 9   Fare         891 non-null    float64\n",
      " 10  Cabin        204 non-null    object \n",
      " 11  Embarked     889 non-null    object \n",
      "dtypes: float64(2), int64(5), object(5)\n",
      "memory usage: 83.7+ KB\n"
     ]
    }
   ],
   "source": [
    "dftrain.info()"
   ]
  },
  {
   "cell_type": "code",
   "execution_count": 112,
   "id": "925e75d1",
   "metadata": {},
   "outputs": [],
   "source": [
    "#Modifico la categoria sexo para que sea numerica (en el train y en el test)\n",
    "dftrain['Sex'] = dftrain['Sex'].replace('female', 0)\n",
    "dftrain['Sex'] = dftrain['Sex'].replace('male', 1)\n",
    "\n",
    "dftest['Sex'] = dftest['Sex'].replace('female', 0)\n",
    "dftest['Sex'] = dftest['Sex'].replace('male', 1)"
   ]
  },
  {
   "cell_type": "code",
   "execution_count": 113,
   "id": "3dbcf1d5",
   "metadata": {},
   "outputs": [],
   "source": [
    "#tengo un df de test con 900 registros y el test con 418, no cumplo una regla de 80 - 20"
   ]
  },
  {
   "cell_type": "code",
   "execution_count": 114,
   "id": "019ddc52",
   "metadata": {},
   "outputs": [
    {
     "data": {
      "text/html": [
       "<div>\n",
       "<style scoped>\n",
       "    .dataframe tbody tr th:only-of-type {\n",
       "        vertical-align: middle;\n",
       "    }\n",
       "\n",
       "    .dataframe tbody tr th {\n",
       "        vertical-align: top;\n",
       "    }\n",
       "\n",
       "    .dataframe thead th {\n",
       "        text-align: right;\n",
       "    }\n",
       "</style>\n",
       "<table border=\"1\" class=\"dataframe\">\n",
       "  <thead>\n",
       "    <tr style=\"text-align: right;\">\n",
       "      <th></th>\n",
       "      <th>PassengerId</th>\n",
       "      <th>Survived</th>\n",
       "      <th>Pclass</th>\n",
       "      <th>Sex</th>\n",
       "      <th>Age</th>\n",
       "      <th>SibSp</th>\n",
       "      <th>Parch</th>\n",
       "      <th>Fare</th>\n",
       "    </tr>\n",
       "  </thead>\n",
       "  <tbody>\n",
       "    <tr>\n",
       "      <th>PassengerId</th>\n",
       "      <td>1.000000</td>\n",
       "      <td>-0.005007</td>\n",
       "      <td>-0.035144</td>\n",
       "      <td>0.042939</td>\n",
       "      <td>0.036847</td>\n",
       "      <td>-0.057527</td>\n",
       "      <td>-0.001652</td>\n",
       "      <td>0.012658</td>\n",
       "    </tr>\n",
       "    <tr>\n",
       "      <th>Survived</th>\n",
       "      <td>-0.005007</td>\n",
       "      <td>1.000000</td>\n",
       "      <td>-0.338481</td>\n",
       "      <td>-0.543351</td>\n",
       "      <td>-0.077221</td>\n",
       "      <td>-0.035322</td>\n",
       "      <td>0.081629</td>\n",
       "      <td>0.257307</td>\n",
       "    </tr>\n",
       "    <tr>\n",
       "      <th>Pclass</th>\n",
       "      <td>-0.035144</td>\n",
       "      <td>-0.338481</td>\n",
       "      <td>1.000000</td>\n",
       "      <td>0.131900</td>\n",
       "      <td>-0.369226</td>\n",
       "      <td>0.083081</td>\n",
       "      <td>0.018443</td>\n",
       "      <td>-0.549500</td>\n",
       "    </tr>\n",
       "    <tr>\n",
       "      <th>Sex</th>\n",
       "      <td>0.042939</td>\n",
       "      <td>-0.543351</td>\n",
       "      <td>0.131900</td>\n",
       "      <td>1.000000</td>\n",
       "      <td>0.093254</td>\n",
       "      <td>-0.114631</td>\n",
       "      <td>-0.245489</td>\n",
       "      <td>-0.182333</td>\n",
       "    </tr>\n",
       "    <tr>\n",
       "      <th>Age</th>\n",
       "      <td>0.036847</td>\n",
       "      <td>-0.077221</td>\n",
       "      <td>-0.369226</td>\n",
       "      <td>0.093254</td>\n",
       "      <td>1.000000</td>\n",
       "      <td>-0.308247</td>\n",
       "      <td>-0.189119</td>\n",
       "      <td>0.096067</td>\n",
       "    </tr>\n",
       "    <tr>\n",
       "      <th>SibSp</th>\n",
       "      <td>-0.057527</td>\n",
       "      <td>-0.035322</td>\n",
       "      <td>0.083081</td>\n",
       "      <td>-0.114631</td>\n",
       "      <td>-0.308247</td>\n",
       "      <td>1.000000</td>\n",
       "      <td>0.414838</td>\n",
       "      <td>0.159651</td>\n",
       "    </tr>\n",
       "    <tr>\n",
       "      <th>Parch</th>\n",
       "      <td>-0.001652</td>\n",
       "      <td>0.081629</td>\n",
       "      <td>0.018443</td>\n",
       "      <td>-0.245489</td>\n",
       "      <td>-0.189119</td>\n",
       "      <td>0.414838</td>\n",
       "      <td>1.000000</td>\n",
       "      <td>0.216225</td>\n",
       "    </tr>\n",
       "    <tr>\n",
       "      <th>Fare</th>\n",
       "      <td>0.012658</td>\n",
       "      <td>0.257307</td>\n",
       "      <td>-0.549500</td>\n",
       "      <td>-0.182333</td>\n",
       "      <td>0.096067</td>\n",
       "      <td>0.159651</td>\n",
       "      <td>0.216225</td>\n",
       "      <td>1.000000</td>\n",
       "    </tr>\n",
       "  </tbody>\n",
       "</table>\n",
       "</div>"
      ],
      "text/plain": [
       "             PassengerId  Survived    Pclass       Sex       Age     SibSp  \\\n",
       "PassengerId     1.000000 -0.005007 -0.035144  0.042939  0.036847 -0.057527   \n",
       "Survived       -0.005007  1.000000 -0.338481 -0.543351 -0.077221 -0.035322   \n",
       "Pclass         -0.035144 -0.338481  1.000000  0.131900 -0.369226  0.083081   \n",
       "Sex             0.042939 -0.543351  0.131900  1.000000  0.093254 -0.114631   \n",
       "Age             0.036847 -0.077221 -0.369226  0.093254  1.000000 -0.308247   \n",
       "SibSp          -0.057527 -0.035322  0.083081 -0.114631 -0.308247  1.000000   \n",
       "Parch          -0.001652  0.081629  0.018443 -0.245489 -0.189119  0.414838   \n",
       "Fare            0.012658  0.257307 -0.549500 -0.182333  0.096067  0.159651   \n",
       "\n",
       "                Parch      Fare  \n",
       "PassengerId -0.001652  0.012658  \n",
       "Survived     0.081629  0.257307  \n",
       "Pclass       0.018443 -0.549500  \n",
       "Sex         -0.245489 -0.182333  \n",
       "Age         -0.189119  0.096067  \n",
       "SibSp        0.414838  0.159651  \n",
       "Parch        1.000000  0.216225  \n",
       "Fare         0.216225  1.000000  "
      ]
     },
     "execution_count": 114,
     "metadata": {},
     "output_type": "execute_result"
    }
   ],
   "source": [
    "dftrain.corr()"
   ]
  },
  {
   "cell_type": "code",
   "execution_count": 115,
   "id": "1ab115d4",
   "metadata": {
    "scrolled": true
   },
   "outputs": [
    {
     "data": {
      "image/png": "[encoded data removed]",
      "text/plain": [
       "<Figure size 432x288 with 2 Axes>"
      ]
     },
     "metadata": {
      "needs_background": "light"
     },
     "output_type": "display_data"
    }
   ],
   "source": [
    "matriz_correlacion = dftrain.corr()\n",
    "sn.heatmap(matriz_correlacion, annot = True)\n",
    "plt.show()"
   ]
  },
  {
   "cell_type": "code",
   "execution_count": 116,
   "id": "fd6066e0",
   "metadata": {
    "scrolled": true
   },
   "outputs": [
    {
     "data": {
      "text/plain": [
       "Survived       1.000000\n",
       "Fare           0.257307\n",
       "Parch          0.081629\n",
       "PassengerId   -0.005007\n",
       "SibSp         -0.035322\n",
       "Age           -0.077221\n",
       "Pclass        -0.338481\n",
       "Sex           -0.543351\n",
       "Name: Survived, dtype: float64"
      ]
     },
     "execution_count": 116,
     "metadata": {},
     "output_type": "execute_result"
    }
   ],
   "source": [
    "dftrain.corr()[\"Survived\"].sort_values(ascending=False)"
   ]
  },
  {
   "cell_type": "markdown",
   "id": "930416dc",
   "metadata": {},
   "source": [
    "Hay valores nulos en Age, los voy a completar tomando el valor medio de la edad"
   ]
  },
  {
   "cell_type": "code",
   "execution_count": 117,
   "id": "614f457b",
   "metadata": {},
   "outputs": [],
   "source": [
    "dftrain = dftrain.drop([\"Cabin\"],axis=1)"
   ]
  },
  {
   "cell_type": "code",
   "execution_count": 118,
   "id": "4fc013a3",
   "metadata": {},
   "outputs": [],
   "source": [
    "#dftrain=dftrain.dropna()\n",
    "dftrain['Age'] = dftrain['Age'].fillna(dftrain['Age'].mean()) #completo los nulos con la media"
   ]
  },
  {
   "cell_type": "code",
   "execution_count": 119,
   "id": "a29528c2",
   "metadata": {},
   "outputs": [
    {
     "name": "stdout",
     "output_type": "stream",
     "text": [
      "<class 'pandas.core.frame.DataFrame'>\n",
      "RangeIndex: 891 entries, 0 to 890\n",
      "Data columns (total 11 columns):\n",
      " #   Column       Non-Null Count  Dtype  \n",
      "---  ------       --------------  -----  \n",
      " 0   PassengerId  891 non-null    int64  \n",
      " 1   Survived     891 non-null    int64  \n",
      " 2   Pclass       891 non-null    int64  \n",
      " 3   Name         891 non-null    object \n",
      " 4   Sex          891 non-null    int64  \n",
      " 5   Age          891 non-null    float64\n",
      " 6   SibSp        891 non-null    int64  \n",
      " 7   Parch        891 non-null    int64  \n",
      " 8   Ticket       891 non-null    object \n",
      " 9   Fare         891 non-null    float64\n",
      " 10  Embarked     889 non-null    object \n",
      "dtypes: float64(2), int64(6), object(3)\n",
      "memory usage: 76.7+ KB\n"
     ]
    }
   ],
   "source": [
    "dftrain.info() #cheque que no haya valores no nulos"
   ]
  },
  {
   "cell_type": "code",
   "execution_count": 120,
   "id": "d79ef946",
   "metadata": {},
   "outputs": [
    {
     "data": {
      "image/png": "[encoded data removed]",
      "text/plain": [
       "<Figure size 432x288 with 6 Axes>"
      ]
     },
     "metadata": {
      "needs_background": "light"
     },
     "output_type": "display_data"
    }
   ],
   "source": [
    "dftrain[[\"Pclass\",\"Sex\",\"Age\",\"SibSp\",\"Parch\",\"Fare\"]].hist()\n",
    "plt.show()"
   ]
  },
  {
   "cell_type": "markdown",
   "id": "d1ee5737",
   "metadata": {},
   "source": [
    "Voy a probar el arbol de decision con todas las colunas numericas"
   ]
  },
  {
   "cell_type": "code",
   "execution_count": 121,
   "id": "2a5d3cc6",
   "metadata": {},
   "outputs": [],
   "source": [
    "X_train, X_test, Y_train, Y_test = train_test_split(dftrain[[\"Pclass\",\"Sex\",\"Age\",\"SibSp\",\"Parch\",\"Fare\"]], dftrain[\"Survived\"],test_size=0.2, random_state=0)"
   ]
  },
  {
   "cell_type": "code",
   "execution_count": 122,
   "id": "ab100094",
   "metadata": {},
   "outputs": [
    {
     "data": {
      "text/html": [
       "<div>\n",
       "<style scoped>\n",
       "    .dataframe tbody tr th:only-of-type {\n",
       "        vertical-align: middle;\n",
       "    }\n",
       "\n",
       "    .dataframe tbody tr th {\n",
       "        vertical-align: top;\n",
       "    }\n",
       "\n",
       "    .dataframe thead th {\n",
       "        text-align: right;\n",
       "    }\n",
       "</style>\n",
       "<table border=\"1\" class=\"dataframe\">\n",
       "  <thead>\n",
       "    <tr style=\"text-align: right;\">\n",
       "      <th></th>\n",
       "      <th>Pclass</th>\n",
       "      <th>Sex</th>\n",
       "      <th>Age</th>\n",
       "      <th>SibSp</th>\n",
       "      <th>Parch</th>\n",
       "      <th>Fare</th>\n",
       "    </tr>\n",
       "  </thead>\n",
       "  <tbody>\n",
       "    <tr>\n",
       "      <th>140</th>\n",
       "      <td>3</td>\n",
       "      <td>0</td>\n",
       "      <td>29.699118</td>\n",
       "      <td>0</td>\n",
       "      <td>2</td>\n",
       "      <td>15.2458</td>\n",
       "    </tr>\n",
       "    <tr>\n",
       "      <th>439</th>\n",
       "      <td>2</td>\n",
       "      <td>1</td>\n",
       "      <td>31.000000</td>\n",
       "      <td>0</td>\n",
       "      <td>0</td>\n",
       "      <td>10.5000</td>\n",
       "    </tr>\n",
       "    <tr>\n",
       "      <th>817</th>\n",
       "      <td>2</td>\n",
       "      <td>1</td>\n",
       "      <td>31.000000</td>\n",
       "      <td>1</td>\n",
       "      <td>1</td>\n",
       "      <td>37.0042</td>\n",
       "    </tr>\n",
       "    <tr>\n",
       "      <th>378</th>\n",
       "      <td>3</td>\n",
       "      <td>1</td>\n",
       "      <td>20.000000</td>\n",
       "      <td>0</td>\n",
       "      <td>0</td>\n",
       "      <td>4.0125</td>\n",
       "    </tr>\n",
       "    <tr>\n",
       "      <th>491</th>\n",
       "      <td>3</td>\n",
       "      <td>1</td>\n",
       "      <td>21.000000</td>\n",
       "      <td>0</td>\n",
       "      <td>0</td>\n",
       "      <td>7.2500</td>\n",
       "    </tr>\n",
       "  </tbody>\n",
       "</table>\n",
       "</div>"
      ],
      "text/plain": [
       "     Pclass  Sex        Age  SibSp  Parch     Fare\n",
       "140       3    0  29.699118      0      2  15.2458\n",
       "439       2    1  31.000000      0      0  10.5000\n",
       "817       2    1  31.000000      1      1  37.0042\n",
       "378       3    1  20.000000      0      0   4.0125\n",
       "491       3    1  21.000000      0      0   7.2500"
      ]
     },
     "execution_count": 122,
     "metadata": {},
     "output_type": "execute_result"
    }
   ],
   "source": [
    "X_train.head(5)"
   ]
  },
  {
   "cell_type": "code",
   "execution_count": 123,
   "id": "5c9a119e",
   "metadata": {},
   "outputs": [
    {
     "data": {
      "text/plain": [
       "140    0\n",
       "439    0\n",
       "817    0\n",
       "378    0\n",
       "491    0\n",
       "Name: Survived, dtype: int64"
      ]
     },
     "execution_count": 123,
     "metadata": {},
     "output_type": "execute_result"
    }
   ],
   "source": [
    "Y_train.head(5)"
   ]
  },
  {
   "cell_type": "code",
   "execution_count": 126,
   "id": "c8027982",
   "metadata": {},
   "outputs": [
    {
     "name": "stdout",
     "output_type": "stream",
     "text": [
      "Accuracy of decision tree with depth 2 is: 0.782 \n",
      "Accuracy of decision tree with depth 3 is: 0.821 \n",
      "Accuracy of decision tree with depth 4 is: 0.816 \n",
      "Accuracy of decision tree with depth 5 is: 0.816 \n",
      "Accuracy of decision tree with depth 6 is: 0.827 \n",
      "Accuracy of decision tree with depth 7 is: 0.810 \n",
      "Accuracy of decision tree with depth 8 is: 0.793 \n",
      "Accuracy of decision tree with depth 9 is: 0.799 \n",
      "Accuracy of decision tree with depth 10 is: 0.821 \n",
      "Accuracy of decision tree with depth 11 is: 0.810 \n",
      "Accuracy of decision tree with depth 12 is: 0.788 \n",
      "Accuracy of decision tree with depth 13 is: 0.777 \n",
      "Accuracy of decision tree with depth 14 is: 0.793 \n",
      "\u001b[1mThe best depth for Decision Tree classifier is 6, and it have a accuracy of 0.827 \u001b[0m\n"
     ]
    }
   ],
   "source": [
    "Max_Tree = [0,0]\n",
    "for depth in range(2,15):\n",
    "    ClfDT = tree.DecisionTreeClassifier(max_depth=depth, random_state=42)\n",
    "    ClfDT.fit(X_train, Y_train)\n",
    "    Y_predDT = ClfDT.predict(X_test)\n",
    "    AccuracyDT = accuracy_score(Y_test, Y_predDT)\n",
    "    print(\"Accuracy of decision tree with depth {} is: {:.3f} \".format(depth, AccuracyDT))\n",
    "    if AccuracyDT>Max_Tree[1]:\n",
    "        Max_Tree[1] = AccuracyDT\n",
    "        Max_Tree[0] = depth\n",
    "        Max_Y_predDT = Y_predDT\n",
    "        Max_ClfDT = ClfDT\n",
    "print(\"\\033[1mThe best depth for Decision Tree classifier is {}, and it have a accuracy of {:.3f} \\033[0m\".format(Max_Tree[0], Max_Tree[1]))  "
   ]
  },
  {
   "cell_type": "code",
   "execution_count": 52,
   "id": "c5ac0848",
   "metadata": {},
   "outputs": [
    {
     "data": {
      "text/plain": [
       "[Text(153.6905172413793, 201.90857142857143, 'X[1] <= 0.5\\ngini = 0.473\\nsamples = 712\\nvalue = [439, 273]'),\n",
       " Text(72.87672413793103, 170.84571428571428, 'X[0] <= 2.5\\ngini = 0.38\\nsamples = 247\\nvalue = [63, 184]'),\n",
       " Text(23.089655172413792, 139.78285714285715, 'X[2] <= 2.5\\ngini = 0.114\\nsamples = 132\\nvalue = [8, 124]'),\n",
       " Text(17.317241379310346, 108.72, 'gini = 0.0\\nsamples = 1\\nvalue = [1, 0]'),\n",
       " Text(28.86206896551724, 108.72, 'X[5] <= 28.856\\ngini = 0.101\\nsamples = 131\\nvalue = [7, 124]'),\n",
       " Text(17.317241379310346, 77.65714285714284, 'X[5] <= 28.231\\ngini = 0.201\\nsamples = 53\\nvalue = [6, 47]'),\n",
       " Text(11.544827586206896, 46.59428571428572, 'X[2] <= 56.0\\ngini = 0.174\\nsamples = 52\\nvalue = [5, 47]'),\n",
       " Text(5.772413793103448, 15.531428571428563, 'gini = 0.147\\nsamples = 50\\nvalue = [4, 46]'),\n",
       " Text(17.317241379310346, 15.531428571428563, 'gini = 0.5\\nsamples = 2\\nvalue = [1, 1]'),\n",
       " Text(23.089655172413792, 46.59428571428572, 'gini = 0.0\\nsamples = 1\\nvalue = [1, 0]'),\n",
       " Text(40.40689655172414, 77.65714285714284, 'X[5] <= 149.035\\ngini = 0.025\\nsamples = 78\\nvalue = [1, 77]'),\n",
       " Text(34.63448275862069, 46.59428571428572, 'gini = 0.0\\nsamples = 67\\nvalue = [0, 67]'),\n",
       " Text(46.179310344827584, 46.59428571428572, 'X[5] <= 152.506\\ngini = 0.165\\nsamples = 11\\nvalue = [1, 10]'),\n",
       " Text(40.40689655172414, 15.531428571428563, 'gini = 0.0\\nsamples = 1\\nvalue = [1, 0]'),\n",
       " Text(51.95172413793103, 15.531428571428563, 'gini = 0.0\\nsamples = 10\\nvalue = [0, 10]'),\n",
       " Text(122.66379310344827, 139.78285714285715, 'X[5] <= 23.35\\ngini = 0.499\\nsamples = 115\\nvalue = [55, 60]'),\n",
       " Text(101.01724137931033, 108.72, 'X[2] <= 29.85\\ngini = 0.471\\nsamples = 92\\nvalue = [35, 57]'),\n",
       " Text(80.81379310344828, 77.65714285714284, 'X[5] <= 7.888\\ngini = 0.444\\nsamples = 81\\nvalue = [27, 54]'),\n",
       " Text(69.26896551724138, 46.59428571428572, 'X[4] <= 1.0\\ngini = 0.264\\nsamples = 32\\nvalue = [5, 27]'),\n",
       " Text(63.49655172413793, 15.531428571428563, 'gini = 0.225\\nsamples = 31\\nvalue = [4, 27]'),\n",
       " Text(75.04137931034482, 15.531428571428563, 'gini = 0.0\\nsamples = 1\\nvalue = [1, 0]'),\n",
       " Text(92.35862068965517, 46.59428571428572, 'X[5] <= 15.373\\ngini = 0.495\\nsamples = 49\\nvalue = [22, 27]'),\n",
       " Text(86.58620689655172, 15.531428571428563, 'gini = 0.491\\nsamples = 30\\nvalue = [17, 13]'),\n",
       " Text(98.13103448275862, 15.531428571428563, 'gini = 0.388\\nsamples = 19\\nvalue = [5, 14]'),\n",
       " Text(121.22068965517241, 77.65714285714284, 'X[5] <= 20.369\\ngini = 0.397\\nsamples = 11\\nvalue = [8, 3]'),\n",
       " Text(115.44827586206895, 46.59428571428572, 'X[5] <= 8.673\\ngini = 0.32\\nsamples = 10\\nvalue = [8, 2]'),\n",
       " Text(109.67586206896551, 15.531428571428563, 'gini = 0.0\\nsamples = 4\\nvalue = [4, 0]'),\n",
       " Text(121.22068965517241, 15.531428571428563, 'gini = 0.444\\nsamples = 6\\nvalue = [4, 2]'),\n",
       " Text(126.99310344827586, 46.59428571428572, 'gini = 0.0\\nsamples = 1\\nvalue = [0, 1]'),\n",
       " Text(144.3103448275862, 108.72, 'X[4] <= 0.5\\ngini = 0.227\\nsamples = 23\\nvalue = [20, 3]'),\n",
       " Text(138.53793103448277, 77.65714285714284, 'gini = 0.0\\nsamples = 1\\nvalue = [0, 1]'),\n",
       " Text(150.08275862068965, 77.65714285714284, 'X[2] <= 5.5\\ngini = 0.165\\nsamples = 22\\nvalue = [20, 2]'),\n",
       " Text(138.53793103448277, 46.59428571428572, 'X[5] <= 31.331\\ngini = 0.5\\nsamples = 2\\nvalue = [1, 1]'),\n",
       " Text(132.7655172413793, 15.531428571428563, 'gini = 0.0\\nsamples = 1\\nvalue = [1, 0]'),\n",
       " Text(144.3103448275862, 15.531428571428563, 'gini = 0.0\\nsamples = 1\\nvalue = [0, 1]'),\n",
       " Text(161.62758620689655, 46.59428571428572, 'X[4] <= 4.5\\ngini = 0.095\\nsamples = 20\\nvalue = [19, 1]'),\n",
       " Text(155.8551724137931, 15.531428571428563, 'gini = 0.0\\nsamples = 16\\nvalue = [16, 0]'),\n",
       " Text(167.4, 15.531428571428563, 'gini = 0.375\\nsamples = 4\\nvalue = [3, 1]'),\n",
       " Text(234.5043103448276, 170.84571428571428, 'X[2] <= 14.0\\ngini = 0.31\\nsamples = 465\\nvalue = [376, 89]'),\n",
       " Text(196.26206896551724, 139.78285714285715, 'X[3] <= 2.5\\ngini = 0.492\\nsamples = 32\\nvalue = [14, 18]'),\n",
       " Text(184.71724137931034, 108.72, 'X[4] <= 0.5\\ngini = 0.105\\nsamples = 18\\nvalue = [1, 17]'),\n",
       " Text(178.94482758620688, 77.65714285714284, 'X[2] <= 11.5\\ngini = 0.5\\nsamples = 2\\nvalue = [1, 1]'),\n",
       " Text(173.17241379310343, 46.59428571428572, 'gini = 0.0\\nsamples = 1\\nvalue = [1, 0]'),\n",
       " Text(184.71724137931034, 46.59428571428572, 'gini = 0.0\\nsamples = 1\\nvalue = [0, 1]'),\n",
       " Text(190.4896551724138, 77.65714285714284, 'gini = 0.0\\nsamples = 16\\nvalue = [0, 16]'),\n",
       " Text(207.80689655172412, 108.72, 'X[2] <= 3.5\\ngini = 0.133\\nsamples = 14\\nvalue = [13, 1]'),\n",
       " Text(202.03448275862067, 77.65714285714284, 'X[2] <= 2.5\\ngini = 0.278\\nsamples = 6\\nvalue = [5, 1]'),\n",
       " Text(196.26206896551724, 46.59428571428572, 'gini = 0.0\\nsamples = 5\\nvalue = [5, 0]'),\n",
       " Text(207.80689655172412, 46.59428571428572, 'gini = 0.0\\nsamples = 1\\nvalue = [0, 1]'),\n",
       " Text(213.57931034482758, 77.65714285714284, 'gini = 0.0\\nsamples = 8\\nvalue = [8, 0]'),\n",
       " Text(272.74655172413793, 139.78285714285715, 'X[0] <= 1.5\\ngini = 0.274\\nsamples = 433\\nvalue = [362, 71]'),\n",
       " Text(242.44137931034481, 108.72, 'X[2] <= 53.0\\ngini = 0.442\\nsamples = 94\\nvalue = [63, 31]'),\n",
       " Text(225.12413793103448, 77.65714285714284, 'X[5] <= 26.144\\ngini = 0.47\\nsamples = 77\\nvalue = [48, 29]'),\n",
       " Text(219.35172413793103, 46.59428571428572, 'gini = 0.0\\nsamples = 7\\nvalue = [7, 0]'),\n",
       " Text(230.8965517241379, 46.59428571428572, 'X[5] <= 27.135\\ngini = 0.485\\nsamples = 70\\nvalue = [41, 29]'),\n",
       " Text(225.12413793103448, 15.531428571428563, 'gini = 0.26\\nsamples = 13\\nvalue = [2, 11]'),\n",
       " Text(236.66896551724136, 15.531428571428563, 'gini = 0.432\\nsamples = 57\\nvalue = [39, 18]'),\n",
       " Text(259.7586206896552, 77.65714285714284, 'X[2] <= 75.5\\ngini = 0.208\\nsamples = 17\\nvalue = [15, 2]'),\n",
       " Text(253.98620689655172, 46.59428571428572, 'X[2] <= 57.0\\ngini = 0.117\\nsamples = 16\\nvalue = [15, 1]'),\n",
       " Text(248.21379310344827, 15.531428571428563, 'gini = 0.278\\nsamples = 6\\nvalue = [5, 1]'),\n",
       " Text(259.7586206896552, 15.531428571428563, 'gini = 0.0\\nsamples = 10\\nvalue = [10, 0]'),\n",
       " Text(265.5310344827586, 46.59428571428572, 'gini = 0.0\\nsamples = 1\\nvalue = [0, 1]'),\n",
       " Text(303.05172413793105, 108.72, 'X[2] <= 32.25\\ngini = 0.208\\nsamples = 339\\nvalue = [299, 40]'),\n",
       " Text(288.6206896551724, 77.65714285714284, 'X[2] <= 30.75\\ngini = 0.241\\nsamples = 250\\nvalue = [215, 35]'),\n",
       " Text(277.07586206896553, 46.59428571428572, 'X[3] <= 1.5\\ngini = 0.212\\nsamples = 232\\nvalue = [204, 28]'),\n",
       " Text(271.3034482758621, 15.531428571428563, 'gini = 0.222\\nsamples = 220\\nvalue = [192, 28]'),\n",
       " Text(282.84827586206893, 15.531428571428563, 'gini = 0.0\\nsamples = 12\\nvalue = [12, 0]'),\n",
       " Text(300.1655172413793, 46.59428571428572, 'X[4] <= 0.5\\ngini = 0.475\\nsamples = 18\\nvalue = [11, 7]'),\n",
       " Text(294.39310344827584, 15.531428571428563, 'gini = 0.492\\nsamples = 16\\nvalue = [9, 7]'),\n",
       " Text(305.93793103448274, 15.531428571428563, 'gini = 0.0\\nsamples = 2\\nvalue = [2, 0]'),\n",
       " Text(317.48275862068965, 77.65714285714284, 'X[5] <= 7.91\\ngini = 0.106\\nsamples = 89\\nvalue = [84, 5]'),\n",
       " Text(311.7103448275862, 46.59428571428572, 'gini = 0.0\\nsamples = 27\\nvalue = [27, 0]'),\n",
       " Text(323.2551724137931, 46.59428571428572, 'X[5] <= 7.988\\ngini = 0.148\\nsamples = 62\\nvalue = [57, 5]'),\n",
       " Text(317.48275862068965, 15.531428571428563, 'gini = 0.5\\nsamples = 4\\nvalue = [2, 2]'),\n",
       " Text(329.02758620689656, 15.531428571428563, 'gini = 0.098\\nsamples = 58\\nvalue = [55, 3]')]"
      ]
     },
     "execution_count": 52,
     "metadata": {},
     "output_type": "execute_result"
    },
    {
     "data": {
      "image/png": "[encoded data removed]",
      "text/plain": [
       "<Figure size 432x288 with 1 Axes>"
      ]
     },
     "metadata": {
      "needs_background": "light"
     },
     "output_type": "display_data"
    }
   ],
   "source": [
    "tree.plot_tree(Max_Clf)"
   ]
  },
  {
   "cell_type": "code",
   "execution_count": 131,
   "id": "1be25ecc",
   "metadata": {},
   "outputs": [
    {
     "data": {
      "image/png": "[encoded data removed]",
      "text/plain": [
       "<Figure size 432x432 with 2 Axes>"
      ]
     },
     "metadata": {
      "needs_background": "light"
     },
     "output_type": "display_data"
    }
   ],
   "source": [
    "matrixDT = confusion_matrix(Y_test, Max_Y_predDT)\n",
    "\n",
    "plt.figure(figsize = (6,6))\n",
    "plt.title(\"Confusion Matrix Decision Tree\\n\")\n",
    "\n",
    "Conf_matrixDT= sn.heatmap(matrixDT, annot=True,fmt=\"d\", cmap = 'Greens')\n",
    "Conf_matrixDT.set(xlabel='Predicted Value', ylabel='Real Values')\n",
    "plt.show()"
   ]
  },
  {
   "cell_type": "code",
   "execution_count": 191,
   "id": "cf750c30",
   "metadata": {},
   "outputs": [
    {
     "name": "stdout",
     "output_type": "stream",
     "text": [
      "              precision    recall  f1-score   support\n",
      "\n",
      "           0       0.81      0.95      0.87       110\n",
      "           1       0.88      0.64      0.74        69\n",
      "\n",
      "    accuracy                           0.83       179\n",
      "   macro avg       0.84      0.79      0.80       179\n",
      "weighted avg       0.83      0.83      0.82       179\n",
      "\n"
     ]
    }
   ],
   "source": [
    "print(classification_report(Y_test, Max_Y_predDT))"
   ]
  },
  {
   "cell_type": "markdown",
   "id": "491a0ea2",
   "metadata": {},
   "source": [
    "# Naive Bayes Comparison"
   ]
  },
  {
   "cell_type": "code",
   "execution_count": 79,
   "id": "9e6c5bba",
   "metadata": {},
   "outputs": [],
   "source": [
    "from sklearn.naive_bayes import GaussianNB"
   ]
  },
  {
   "cell_type": "code",
   "execution_count": 80,
   "id": "c8e83f2c",
   "metadata": {},
   "outputs": [],
   "source": [
    "gnb = GaussianNB()"
   ]
  },
  {
   "cell_type": "code",
   "execution_count": 81,
   "id": "935b6bf2",
   "metadata": {},
   "outputs": [
    {
     "data": {
      "text/plain": [
       "GaussianNB()"
      ]
     },
     "execution_count": 81,
     "metadata": {},
     "output_type": "execute_result"
    }
   ],
   "source": [
    "gnb.fit(X_train, Y_train)"
   ]
  },
  {
   "cell_type": "code",
   "execution_count": 83,
   "id": "e9379ad9",
   "metadata": {},
   "outputs": [],
   "source": [
    "y_pred_GNB = gnb.predict(X_test)"
   ]
  },
  {
   "cell_type": "code",
   "execution_count": 84,
   "id": "ecc8b085",
   "metadata": {},
   "outputs": [
    {
     "name": "stdout",
     "output_type": "stream",
     "text": [
      "[0 0 0 1 1 0 1 1 1 1 0 1 0 1 1 1 0 0 0 0 0 1 0 0 1 1 0 1 1 0 0 1 0 0 0 0 0\n",
      " 0 0 0 1 0 0 0 1 0 0 1 0 1 0 1 1 0 0 0 0 0 0 0 0 1 1 0 1 0 1 0 1 1 1 0 1 0\n",
      " 0 0 1 0 0 0 0 0 1 0 0 1 1 1 1 1 0 0 0 1 0 0 1 0 0 1 0 0 0 0 1 1 1 1 0 1 0\n",
      " 1 0 1 1 1 1 1 0 1 0 0 0 0 0 0 0 0 0 0 1 0 0 1 0 0 0 1 0 0 0 1 0 1 1 1 0 1\n",
      " 1 0 1 1 1 0 1 0 1 0 1 1 0 0 1 0 0 0 0 0 0 0 0 1 0 0 1 0 1 0 0]\n"
     ]
    }
   ],
   "source": [
    "print (y_pred_GNB)"
   ]
  },
  {
   "cell_type": "code",
   "execution_count": 99,
   "id": "0e422ba3",
   "metadata": {},
   "outputs": [
    {
     "data": {
      "image/png": "[encoded data removed]",
      "text/plain": [
       "<Figure size 432x432 with 2 Axes>"
      ]
     },
     "metadata": {
      "needs_background": "light"
     },
     "output_type": "display_data"
    }
   ],
   "source": [
    "matrixGNB = confusion_matrix(Y_test, y_pred_GNB)\n",
    "\n",
    "plt.figure(figsize = (6,6))\n",
    "plt.title(\"Confusion Matrix GNB\\n\")\n",
    "\n",
    "Conf_matrixGNB= sn.heatmap(matrixGNB, annot=True,fmt=\"d\", cmap = 'Greens')\n",
    "Conf_matrixGNB.set(xlabel='Predicted Value', ylabel='Real Values')\n",
    "plt.show()"
   ]
  },
  {
   "cell_type": "code",
   "execution_count": 89,
   "id": "8508398c",
   "metadata": {},
   "outputs": [
    {
     "name": "stdout",
     "output_type": "stream",
     "text": [
      "\u001b[1mAccuracy for Gaussian Navie Bayes is: 0.793\u001b[0m\n"
     ]
    }
   ],
   "source": [
    "AccuracyGNB = accuracy_score(Y_test, y_pred_GNB)\n",
    "\n",
    "print(\"\\033[1mAccuracy for Gaussian Navie Bayes is: {:.3f}\\033[0m\".format(AccuracyGNB))"
   ]
  },
  {
   "cell_type": "code",
   "execution_count": 192,
   "id": "bf3f313f",
   "metadata": {},
   "outputs": [
    {
     "name": "stdout",
     "output_type": "stream",
     "text": [
      "              precision    recall  f1-score   support\n",
      "\n",
      "           0       0.84      0.82      0.83       110\n",
      "           1       0.72      0.75      0.74        69\n",
      "\n",
      "    accuracy                           0.79       179\n",
      "   macro avg       0.78      0.79      0.78       179\n",
      "weighted avg       0.80      0.79      0.79       179\n",
      "\n"
     ]
    }
   ],
   "source": [
    "print(classification_report(Y_test, y_pred_GNB))"
   ]
  },
  {
   "cell_type": "markdown",
   "id": "ca3a3a4c",
   "metadata": {},
   "source": [
    "# K-Nearest-Neighbors "
   ]
  },
  {
   "cell_type": "code",
   "execution_count": 91,
   "id": "366e8443",
   "metadata": {},
   "outputs": [],
   "source": [
    "from sklearn.neighbors import KNeighborsClassifier"
   ]
  },
  {
   "cell_type": "code",
   "execution_count": 223,
   "id": "1ef01e01",
   "metadata": {},
   "outputs": [
    {
     "name": "stdout",
     "output_type": "stream",
     "text": [
      "Accuracy with 2 neighbors is: 0.693 \n",
      "Accuracy with 3 neighbors is: 0.704 \n",
      "Accuracy with 4 neighbors is: 0.709 \n",
      "Accuracy with 5 neighbors is: 0.732 \n",
      "Accuracy with 6 neighbors is: 0.732 \n",
      "Accuracy with 7 neighbors is: 0.737 \n",
      "Accuracy with 8 neighbors is: 0.726 \n",
      "Accuracy with 9 neighbors is: 0.732 \n",
      "Accuracy with 10 neighbors is: 0.732 \n",
      "Accuracy with 11 neighbors is: 0.749 \n",
      "Accuracy with 12 neighbors is: 0.743 \n",
      "Accuracy with 13 neighbors is: 0.754 \n",
      "Accuracy with 14 neighbors is: 0.754 \n",
      "Accuracy with 15 neighbors is: 0.749 \n",
      "Accuracy with 16 neighbors is: 0.754 \n",
      "Accuracy with 17 neighbors is: 0.760 \n",
      "Accuracy with 18 neighbors is: 0.765 \n",
      "Accuracy with 19 neighbors is: 0.765 \n",
      "Accuracy with 20 neighbors is: 0.765 \n",
      "Accuracy with 21 neighbors is: 0.765 \n",
      "Accuracy with 22 neighbors is: 0.777 \n",
      "Accuracy with 23 neighbors is: 0.777 \n",
      "Accuracy with 24 neighbors is: 0.765 \n",
      "Accuracy with 25 neighbors is: 0.771 \n",
      "Accuracy with 26 neighbors is: 0.771 \n",
      "Accuracy with 27 neighbors is: 0.777 \n",
      "Accuracy with 28 neighbors is: 0.777 \n",
      "Accuracy with 29 neighbors is: 0.777 \n",
      "Accuracy with 30 neighbors is: 0.782 \n",
      "Accuracy with 31 neighbors is: 0.777 \n",
      "Accuracy with 32 neighbors is: 0.777 \n",
      "Accuracy with 33 neighbors is: 0.788 \n",
      "Accuracy with 34 neighbors is: 0.793 \n",
      "Accuracy with 35 neighbors is: 0.793 \n",
      "Accuracy with 36 neighbors is: 0.788 \n",
      "Accuracy with 37 neighbors is: 0.788 \n",
      "Accuracy with 38 neighbors is: 0.788 \n",
      "Accuracy with 39 neighbors is: 0.788 \n",
      "Accuracy with 40 neighbors is: 0.782 \n",
      "Accuracy with 41 neighbors is: 0.793 \n",
      "Accuracy with 42 neighbors is: 0.793 \n",
      "Accuracy with 43 neighbors is: 0.788 \n",
      "Accuracy with 44 neighbors is: 0.782 \n",
      "Accuracy with 45 neighbors is: 0.788 \n",
      "Accuracy with 46 neighbors is: 0.782 \n",
      "Accuracy with 47 neighbors is: 0.788 \n",
      "Accuracy with 48 neighbors is: 0.788 \n",
      "Accuracy with 49 neighbors is: 0.793 \n",
      "Accuracy with 50 neighbors is: 0.788 \n",
      "Accuracy with 51 neighbors is: 0.799 \n",
      "Accuracy with 52 neighbors is: 0.782 \n",
      "Accuracy with 53 neighbors is: 0.782 \n",
      "Accuracy with 54 neighbors is: 0.777 \n",
      "Accuracy with 55 neighbors is: 0.771 \n",
      "Accuracy with 56 neighbors is: 0.777 \n",
      "Accuracy with 57 neighbors is: 0.765 \n",
      "Accuracy with 58 neighbors is: 0.765 \n",
      "Accuracy with 59 neighbors is: 0.760 \n",
      "Accuracy with 60 neighbors is: 0.760 \n",
      "Accuracy with 61 neighbors is: 0.765 \n",
      "Accuracy with 62 neighbors is: 0.760 \n",
      "Accuracy with 63 neighbors is: 0.760 \n",
      "Accuracy with 64 neighbors is: 0.760 \n",
      "Accuracy with 65 neighbors is: 0.760 \n",
      "Accuracy with 66 neighbors is: 0.760 \n",
      "Accuracy with 67 neighbors is: 0.760 \n",
      "Accuracy with 68 neighbors is: 0.760 \n",
      "Accuracy with 69 neighbors is: 0.760 \n",
      "Accuracy with 70 neighbors is: 0.765 \n",
      "Accuracy with 71 neighbors is: 0.765 \n",
      "Accuracy with 72 neighbors is: 0.760 \n",
      "Accuracy with 73 neighbors is: 0.765 \n",
      "Accuracy with 74 neighbors is: 0.771 \n",
      "Accuracy with 75 neighbors is: 0.765 \n",
      "Accuracy with 76 neighbors is: 0.765 \n",
      "Accuracy with 77 neighbors is: 0.760 \n",
      "Accuracy with 78 neighbors is: 0.749 \n",
      "Accuracy with 79 neighbors is: 0.754 \n",
      "Accuracy with 80 neighbors is: 0.754 \n",
      "Accuracy with 81 neighbors is: 0.760 \n",
      "Accuracy with 82 neighbors is: 0.760 \n",
      "Accuracy with 83 neighbors is: 0.760 \n",
      "Accuracy with 84 neighbors is: 0.760 \n",
      "Accuracy with 85 neighbors is: 0.754 \n",
      "Accuracy with 86 neighbors is: 0.754 \n",
      "Accuracy with 87 neighbors is: 0.749 \n",
      "Accuracy with 88 neighbors is: 0.749 \n",
      "Accuracy with 89 neighbors is: 0.754 \n",
      "Accuracy with 90 neighbors is: 0.754 \n",
      "Accuracy with 91 neighbors is: 0.754 \n",
      "Accuracy with 92 neighbors is: 0.760 \n",
      "Accuracy with 93 neighbors is: 0.760 \n",
      "Accuracy with 94 neighbors is: 0.765 \n",
      "Accuracy with 95 neighbors is: 0.754 \n",
      "Accuracy with 96 neighbors is: 0.760 \n",
      "Accuracy with 97 neighbors is: 0.760 \n",
      "Accuracy with 98 neighbors is: 0.754 \n",
      "Accuracy with 99 neighbors is: 0.760 \n",
      "Accuracy with 100 neighbors is: 0.760 \n",
      "Accuracy with 101 neighbors is: 0.760 \n",
      "Accuracy with 102 neighbors is: 0.760 \n",
      "Accuracy with 103 neighbors is: 0.760 \n",
      "Accuracy with 104 neighbors is: 0.754 \n",
      "Accuracy with 105 neighbors is: 0.754 \n",
      "Accuracy with 106 neighbors is: 0.754 \n",
      "Accuracy with 107 neighbors is: 0.754 \n",
      "Accuracy with 108 neighbors is: 0.754 \n",
      "Accuracy with 109 neighbors is: 0.754 \n",
      "Accuracy with 110 neighbors is: 0.754 \n",
      "Accuracy with 111 neighbors is: 0.760 \n",
      "Accuracy with 112 neighbors is: 0.760 \n",
      "Accuracy with 113 neighbors is: 0.760 \n",
      "Accuracy with 114 neighbors is: 0.760 \n",
      "Accuracy with 115 neighbors is: 0.754 \n",
      "Accuracy with 116 neighbors is: 0.754 \n",
      "Accuracy with 117 neighbors is: 0.754 \n",
      "Accuracy with 118 neighbors is: 0.749 \n",
      "Accuracy with 119 neighbors is: 0.749 \n",
      "Accuracy with 120 neighbors is: 0.749 \n",
      "Accuracy with 121 neighbors is: 0.749 \n",
      "Accuracy with 122 neighbors is: 0.749 \n",
      "Accuracy with 123 neighbors is: 0.754 \n",
      "Accuracy with 124 neighbors is: 0.749 \n",
      "Accuracy with 125 neighbors is: 0.754 \n",
      "Accuracy with 126 neighbors is: 0.754 \n",
      "Accuracy with 127 neighbors is: 0.754 \n",
      "Accuracy with 128 neighbors is: 0.749 \n",
      "Accuracy with 129 neighbors is: 0.749 \n",
      "Accuracy with 130 neighbors is: 0.749 \n",
      "Accuracy with 131 neighbors is: 0.754 \n",
      "Accuracy with 132 neighbors is: 0.754 \n",
      "Accuracy with 133 neighbors is: 0.754 \n",
      "Accuracy with 134 neighbors is: 0.754 \n",
      "Accuracy with 135 neighbors is: 0.754 \n",
      "Accuracy with 136 neighbors is: 0.754 \n",
      "Accuracy with 137 neighbors is: 0.754 \n",
      "Accuracy with 138 neighbors is: 0.754 \n",
      "Accuracy with 139 neighbors is: 0.754 \n",
      "Accuracy with 140 neighbors is: 0.754 \n",
      "Accuracy with 141 neighbors is: 0.754 \n",
      "Accuracy with 142 neighbors is: 0.754 \n",
      "Accuracy with 143 neighbors is: 0.754 \n",
      "Accuracy with 144 neighbors is: 0.754 \n",
      "Accuracy with 145 neighbors is: 0.754 \n",
      "Accuracy with 146 neighbors is: 0.754 \n",
      "Accuracy with 147 neighbors is: 0.754 \n",
      "Accuracy with 148 neighbors is: 0.754 \n",
      "Accuracy with 149 neighbors is: 0.754 \n",
      "Accuracy with 150 neighbors is: 0.754 \n",
      "Accuracy with 151 neighbors is: 0.754 \n",
      "Accuracy with 152 neighbors is: 0.754 \n",
      "Accuracy with 153 neighbors is: 0.754 \n",
      "Accuracy with 154 neighbors is: 0.754 \n",
      "Accuracy with 155 neighbors is: 0.754 \n",
      "Accuracy with 156 neighbors is: 0.754 \n",
      "Accuracy with 157 neighbors is: 0.754 \n",
      "Accuracy with 158 neighbors is: 0.754 \n",
      "Accuracy with 159 neighbors is: 0.754 \n",
      "Accuracy with 160 neighbors is: 0.754 \n",
      "Accuracy with 161 neighbors is: 0.754 \n",
      "Accuracy with 162 neighbors is: 0.754 \n",
      "Accuracy with 163 neighbors is: 0.754 \n",
      "Accuracy with 164 neighbors is: 0.754 \n",
      "Accuracy with 165 neighbors is: 0.754 \n",
      "Accuracy with 166 neighbors is: 0.754 \n",
      "Accuracy with 167 neighbors is: 0.749 \n",
      "Accuracy with 168 neighbors is: 0.749 \n",
      "Accuracy with 169 neighbors is: 0.749 \n",
      "Accuracy with 170 neighbors is: 0.749 \n",
      "Accuracy with 171 neighbors is: 0.749 \n",
      "Accuracy with 172 neighbors is: 0.749 \n",
      "Accuracy with 173 neighbors is: 0.749 \n",
      "Accuracy with 174 neighbors is: 0.749 \n",
      "Accuracy with 175 neighbors is: 0.749 \n",
      "Accuracy with 176 neighbors is: 0.749 \n",
      "Accuracy with 177 neighbors is: 0.749 \n",
      "Accuracy with 178 neighbors is: 0.749 \n",
      "Accuracy with 179 neighbors is: 0.749 \n",
      "Accuracy with 180 neighbors is: 0.743 \n",
      "Accuracy with 181 neighbors is: 0.743 \n",
      "Accuracy with 182 neighbors is: 0.743 \n",
      "Accuracy with 183 neighbors is: 0.737 \n",
      "Accuracy with 184 neighbors is: 0.743 \n",
      "Accuracy with 185 neighbors is: 0.743 \n",
      "Accuracy with 186 neighbors is: 0.743 \n",
      "Accuracy with 187 neighbors is: 0.743 \n",
      "Accuracy with 188 neighbors is: 0.743 \n",
      "Accuracy with 189 neighbors is: 0.743 \n",
      "Accuracy with 190 neighbors is: 0.743 \n",
      "Accuracy with 191 neighbors is: 0.737 \n",
      "Accuracy with 192 neighbors is: 0.737 \n",
      "Accuracy with 193 neighbors is: 0.737 \n",
      "Accuracy with 194 neighbors is: 0.737 \n",
      "Accuracy with 195 neighbors is: 0.732 \n",
      "Accuracy with 196 neighbors is: 0.732 \n",
      "Accuracy with 197 neighbors is: 0.732 \n",
      "Accuracy with 198 neighbors is: 0.737 \n",
      "Accuracy with 199 neighbors is: 0.726 \n",
      "\u001b[1mThe best quantity of neighbours for K-Nearest-Neighbors classifier is 51, and it have a accuracy of 0.799 \u001b[0m\n"
     ]
    }
   ],
   "source": [
    "# Realizando el entrenamiento del dataset con Vecinos Cercanos, iterano para ver la mejor cantidad de vecinos\n",
    "Min_KN = [0,0]\n",
    "scores = []\n",
    "for neighbors in range(2,200):\n",
    "    classifierKN = KNeighborsClassifier(n_neighbors=neighbors, p=2,\n",
    "                     weights='distance')\n",
    "    classifierKN.fit(X_train,Y_train)\n",
    "    y_pred_KN = classifierKN.predict(X_test)\n",
    "    AccuracyKN = accuracy_score(Y_test, y_pred_KN)\n",
    "    AccuracyKN = classifierKN.score(X_test, Y_test)\n",
    "    scores.append(AccuracyKN)\n",
    "    print(\"Accuracy with {} neighbors is: {:.3f} \".format(neighbors, AccuracyKN))\n",
    "    if AccuracyKN > Min_KN[1]:\n",
    "        Min_KN[1] = AccuracyKN\n",
    "        Min_KN[0] = neighbors\n",
    "        Max_Y_predKN = y_pred_KN\n",
    "        Max_ClfDT = classifierKN\n",
    "        \n",
    "print(\"\\033[1mThe best quantity of neighbours for K-Nearest-Neighbors classifier is {}, and it have a accuracy of {:.3f} \\033[0m\".format(Min_KN[0], Min_KN[1]))  \n",
    "\n",
    "\n"
   ]
  },
  {
   "cell_type": "code",
   "execution_count": 222,
   "id": "33a48799",
   "metadata": {},
   "outputs": [
    {
     "name": "stderr",
     "output_type": "stream",
     "text": [
      "C:\\Users\\sacha\\anaconda3\\lib\\site-packages\\seaborn\\_decorators.py:36: FutureWarning: Pass the following variables as keyword args: x, y. From version 0.12, the only valid positional argument will be `data`, and passing other arguments without an explicit keyword will result in an error or misinterpretation.\n",
      "  warnings.warn(\n"
     ]
    },
    {
     "data": {
      "text/plain": [
       "<AxesSubplot:>"
      ]
     },
     "execution_count": 222,
     "metadata": {},
     "output_type": "execute_result"
    },
    {
     "data": {
      "image/png": "[encoded data removed]",
      "text/plain": [
       "<Figure size 1152x432 with 1 Axes>"
      ]
     },
     "metadata": {
      "needs_background": "light"
     },
     "output_type": "display_data"
    }
   ],
   "source": [
    "plt.figure(figsize = (16,6))\n",
    "sn.lineplot(range(2,200), scores)"
   ]
  },
  {
   "cell_type": "code",
   "execution_count": 224,
   "id": "9621b20e",
   "metadata": {},
   "outputs": [
    {
     "data": {
      "image/png": "[encoded data removed]",
      "text/plain": [
       "<Figure size 432x432 with 2 Axes>"
      ]
     },
     "metadata": {
      "needs_background": "light"
     },
     "output_type": "display_data"
    }
   ],
   "source": [
    "matrixKN = confusion_matrix(Y_test, Max_Y_predKN)\n",
    "\n",
    "plt.figure(figsize = (6,6))\n",
    "plt.title(\"Confusion Matrix KN\\n\")\n",
    "\n",
    "Conf_matrixKN= sn.heatmap(matrixKN, annot=True,fmt=\"d\", cmap = 'Greens')\n",
    "Conf_matrixKN.set(xlabel='Predicted Value', ylabel='Real Values')\n",
    "plt.show()"
   ]
  },
  {
   "cell_type": "code",
   "execution_count": 226,
   "id": "d5555e92",
   "metadata": {
    "scrolled": true
   },
   "outputs": [
    {
     "name": "stdout",
     "output_type": "stream",
     "text": [
      "              precision    recall  f1-score   support\n",
      "\n",
      "           0       0.79      0.92      0.85       110\n",
      "           1       0.82      0.61      0.70        69\n",
      "\n",
      "    accuracy                           0.80       179\n",
      "   macro avg       0.81      0.76      0.77       179\n",
      "weighted avg       0.80      0.80      0.79       179\n",
      "\n"
     ]
    }
   ],
   "source": [
    "print(classification_report(Y_test, Max_Y_predKN))"
   ]
  },
  {
   "cell_type": "code",
   "execution_count": 227,
   "id": "e2d0d4fe",
   "metadata": {},
   "outputs": [
    {
     "data": {
      "image/png": "[encoded data removed]",
      "text/plain": [
       "<Figure size 864x720 with 6 Axes>"
      ]
     },
     "metadata": {
      "needs_background": "light"
     },
     "output_type": "display_data"
    }
   ],
   "source": [
    "plt.figure(figsize=(12,10))\n",
    "plt.subplot(2, 2, 1)\n",
    "\n",
    "plt.title(\"KN\")\n",
    "Conf_matrixKN= sn.heatmap(matrixKN, annot=True,fmt=\"d\", cmap = 'Greens')\n",
    "Conf_matrixKN.set(xlabel='Predicted Value', ylabel='Real Values')\n",
    "\n",
    "plt.subplot(2, 2, 2)\n",
    "plt.title(\"Decision Tree\")\n",
    "Conf_matrixDT= sn.heatmap(matrixDT, annot=True,fmt=\"d\", cmap = 'Greens')\n",
    "Conf_matrixDT.set(xlabel='Predicted Value', ylabel='Real Values')\n",
    "\n",
    "plt.subplot(2, 2, 3)\n",
    "plt.title(\"GNB\")\n",
    "Conf_matrixKN= sn.heatmap(matrixGNB, annot=True,fmt=\"d\", cmap = 'Greens')\n",
    "Conf_matrixKN.set(xlabel='Predicted Value', ylabel='Real Values')\n",
    "\n",
    "plt.suptitle(\"Confusion Matrix for the different models\")\n",
    "plt.show()\n"
   ]
  },
  {
   "cell_type": "markdown",
   "id": "6059ae6c",
   "metadata": {},
   "source": [
    "# Error Type 1 and 2"
   ]
  },
  {
   "cell_type": "code",
   "execution_count": 183,
   "id": "ab729ed8",
   "metadata": {},
   "outputs": [],
   "source": [
    "Error_1=[matrixGNB[0,1], matrixDT[0,1], matrixKN[0,1]]\n",
    "Error_2=[matrixGNB[1,0], matrixDT[1,0], matrixKN[1,0]]"
   ]
  },
  {
   "cell_type": "code",
   "execution_count": 195,
   "id": "f2c678ff",
   "metadata": {},
   "outputs": [
    {
     "data": {
      "image/png": "[encoded data removed]",
      "text/plain": [
       "<Figure size 720x432 with 1 Axes>"
      ]
     },
     "metadata": {
      "needs_background": "light"
     },
     "output_type": "display_data"
    }
   ],
   "source": [
    "plt.figure(figsize=(10,6))\n",
    "sn.barplot(y=Error_1,x=[\"GNB\",\"DT\",\"KN\"])\n",
    "plt.title(\"Type 1 errors\")\n",
    "plt.ylabel(\"Quantity of errors\")\n",
    "plt.xlabel(\"Model\")\n",
    "plt.show()"
   ]
  },
  {
   "cell_type": "code",
   "execution_count": 230,
   "id": "63295d5b",
   "metadata": {
    "scrolled": true
   },
   "outputs": [
    {
     "data": {
      "image/png": "[encoded data removed]",
      "text/plain": [
       "<Figure size 720x432 with 1 Axes>"
      ]
     },
     "metadata": {
      "needs_background": "light"
     },
     "output_type": "display_data"
    }
   ],
   "source": [
    "plt.figure(figsize=(10,6))\n",
    "sn.barplot(y=Error_2,x=[\"GNB\",\"DT\",\"KN\"])\n",
    "plt.title(\"Type 2 errors\")\n",
    "plt.ylabel(\"Quantity of errors\")\n",
    "plt.xlabel(\"Model\")\n",
    "plt.show()"
   ]
  },
  {
   "cell_type": "code",
   "execution_count": null,
   "id": "3ca7ec54",
   "metadata": {},
   "outputs": [],
   "source": []
  }
 ],
 "metadata": {
  "kernelspec": {
   "display_name": "Python 3",
   "language": "python",
   "name": "python3"
  },
  "language_info": {
   "codemirror_mode": {
    "name": "ipython",
    "version": 3
   },
   "file_extension": ".py",
   "mimetype": "text/x-python",
   "name": "python",
   "nbconvert_exporter": "python",
   "pygments_lexer": "ipython3",
   "version": "3.8.8"
  }
 },
 "nbformat": 4,
 "nbformat_minor": 5
}
